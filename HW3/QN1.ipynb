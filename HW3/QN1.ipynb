{
 "cells": [
  {
   "cell_type": "code",
   "execution_count": 1,
   "metadata": {},
   "outputs": [],
   "source": [
    "import sys\n",
    "sys.path.append('/Users/anthonymunoz/ISTDTerm6/libsvm/python')\n",
    "from svmutil import *"
   ]
  },
  {
   "cell_type": "code",
   "execution_count": 2,
   "metadata": {},
   "outputs": [],
   "source": [
    "y_train, x_train = svm_read_problem('/Users/anthonymunoz/ISTDTerm6/MachineLearning/01.112 Machine Learning/HW3/HW3_data/1/promoters/training.txt')"
   ]
  },
  {
   "cell_type": "code",
   "execution_count": 3,
   "metadata": {},
   "outputs": [],
   "source": [
    "y_test, x_test = svm_read_problem('/Users/anthonymunoz/ISTDTerm6/MachineLearning/01.112 Machine Learning/HW3/HW3_data/1/promoters/test.txt')"
   ]
  },
  {
   "cell_type": "code",
   "execution_count": 4,
   "metadata": {},
   "outputs": [
    {
     "name": "stdout",
     "output_type": "stream",
     "text": [
      "Accuracy = 84.375% (27/32) (classification)\n",
      "For kernel 0: accuracy = 84.375% \n",
      "\n",
      "Accuracy = 81.25% (26/32) (classification)\n",
      "For kernel 1: accuracy = 81.25% \n",
      "\n",
      "Accuracy = 90.625% (29/32) (classification)\n",
      "For kernel 2: accuracy = 90.625% \n",
      "\n",
      "Accuracy = 43.75% (14/32) (classification)\n",
      "For kernel 3: accuracy = 43.75% \n",
      "\n"
     ]
    }
   ],
   "source": [
    "for i in range(4):\n",
    "    m = svm_train(y_train[:200], x_train[:200], f'-t {i}')\n",
    "    p_label, p_acc, p_val = svm_predict(y_test, x_test, m)\n",
    "    print(f\"For kernel {i}: accuracy = {p_acc[0]}% \\n\")"
   ]
  },
  {
   "cell_type": "code",
   "execution_count": null,
   "metadata": {},
   "outputs": [],
   "source": []
  }
 ],
 "metadata": {
  "kernelspec": {
   "display_name": "Python 3",
   "language": "python",
   "name": "python3"
  },
  "language_info": {
   "codemirror_mode": {
    "name": "ipython",
    "version": 3
   },
   "file_extension": ".py",
   "mimetype": "text/x-python",
   "name": "python",
   "nbconvert_exporter": "python",
   "pygments_lexer": "ipython3",
   "version": "3.6.4"
  }
 },
 "nbformat": 4,
 "nbformat_minor": 2
}
