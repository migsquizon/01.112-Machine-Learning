{
 "cells": [
  {
   "cell_type": "markdown",
   "metadata": {},
   "source": [
    "# Q1 Perceptron\n",
    "\n",
    "How to run:\n",
    "\n",
    "1. Change directories of filename , and filename2 as training and test data respectively\n",
    "\n",
    "2. Run all cells until end"
   ]
  },
  {
   "cell_type": "code",
   "execution_count": 1,
   "metadata": {},
   "outputs": [],
   "source": [
    "from csv import reader\n",
    "import numpy as np\n",
    "\n",
    "# Load a CSV file\n",
    "def load_csv(filename):\n",
    "    dataset = []\n",
    "    with open(filename, 'r') as file:\n",
    "        csv_reader = reader(file)\n",
    "        for row in csv_reader:\n",
    "            if not row:\n",
    "                continue  \n",
    "            dataset.append(row)\n",
    "    return dataset\n",
    "\n",
    "# Convert string column to float\n",
    "def str_column_to_float(dataset, column):\n",
    "    for row in dataset:\n",
    "        row[column] = float(row[column].strip())"
   ]
  },
  {
   "cell_type": "code",
   "execution_count": 2,
   "metadata": {},
   "outputs": [],
   "source": [
    "filename = '/Users/anthonymunoz/ISTDTerm6/MachineLearning/data/1/train_1_5.csv'\n",
    "dataset = load_csv(filename)\n",
    "for i in range(len(dataset[0])):\n",
    "    str_column_to_float(dataset, i)\n",
    "x1 = []\n",
    "x2 = []\n",
    "samples = []\n",
    "y1 = []\n",
    "x = []\n",
    "\n",
    "for row in range(len(dataset)):\n",
    "    x1.append(dataset[row][0])\n",
    "    x2.append(dataset[row][1])\n",
    "    y1.append(dataset[row][2])\n",
    "    samples.append([dataset[row][0],dataset[row][1]])\n",
    "    x.append([x1[row],x2[row]])\n",
    "\n",
    "      \n",
    "num_epoch = 5"
   ]
  },
  {
   "cell_type": "code",
   "execution_count": 3,
   "metadata": {},
   "outputs": [],
   "source": [
    "filename2 = '/Users/anthonymunoz/ISTDTerm6/MachineLearning/data/1/test_1_5.csv'\n",
    "dataset2 = load_csv(filename2)\n",
    "for i in range(len(dataset2[0])):\n",
    "    str_column_to_float(dataset2, i)\n",
    "x1_test = []\n",
    "x2_test = []\n",
    "samples_test = []\n",
    "y1_test = []\n",
    "x_test = []\n",
    "\n",
    "for row in range(len(dataset2)):\n",
    "    x1_test.append(dataset2[row][0])\n",
    "    x2_test.append(dataset2[row][1])\n",
    "    y1_test.append(dataset2[row][2])\n",
    "    x_test.append([x1_test[row],x2_test[row]])\n",
    "    "
   ]
  },
  {
   "cell_type": "code",
   "execution_count": 4,
   "metadata": {},
   "outputs": [],
   "source": [
    "def perceptron_update(y,theta,x,offset):\n",
    "    if(y*(np.dot(theta,x) + offset)<=0):\n",
    "        theta =  np.add(np.dot(y,x),theta)\n",
    "        offset += y   \n",
    "        #print(offset)\n",
    "    return theta,offset\n",
    "    \n",
    "        \n",
    "        \n",
    "           \n",
    "        \n",
    "def perceptron_algorithm(num_epoch,y,x):\n",
    "    theta = [[0,0]]\n",
    "    offset = 0\n",
    "    for n in range(num_epoch):\n",
    "        for i in range(len(y)):\n",
    "            theta[0], offset = perceptron_update(y[i],theta[0],x[i],offset)\n",
    "            #offset = perceptron_update(y[i],theta[0],x[i],offset)[1]\n",
    "    return theta,offset\n",
    "            \n",
    "            \n"
   ]
  },
  {
   "cell_type": "code",
   "execution_count": 5,
   "metadata": {},
   "outputs": [],
   "source": [
    "theta, offset = perceptron_algorithm(5,y1,x)\n",
    "#offset = perceptron_algorithm(5,y1,x)[1]"
   ]
  },
  {
   "cell_type": "markdown",
   "metadata": {},
   "source": [
    "## 1A"
   ]
  },
  {
   "cell_type": "code",
   "execution_count": 6,
   "metadata": {},
   "outputs": [
    {
     "name": "stdout",
     "output_type": "stream",
     "text": [
      "Theta for 5 iterations is: [-2.05895878 -8.83521606]\n",
      "Offset for 5 iterations is: 1.0\n",
      "The accuracy for 5 iterations is: 96.7065868263473\n"
     ]
    }
   ],
   "source": [
    "def predict(y_test,x_test,theta,offset):\n",
    "    accuracy = 0\n",
    "    for i in range(len(y_test)): \n",
    "        y_prediction = float(np.sign(np.add(offset,np.dot(theta,x_test[i]))))\n",
    "        if(y_prediction == y_test[i]):\n",
    "            accuracy +=1.00\n",
    "    return (accuracy/len(y_test)*100)\n",
    "\n",
    "print(\"Theta for 5 iterations is: \" + str(theta[0]))\n",
    "print(\"Offset for 5 iterations is: \" + str(offset))\n",
    "print(\"The accuracy for 5 iterations is: \" + str(predict(y1_test,x_test,theta[0],offset)))"
   ]
  },
  {
   "cell_type": "markdown",
   "metadata": {},
   "source": [
    "## 1B"
   ]
  },
  {
   "cell_type": "code",
   "execution_count": 7,
   "metadata": {},
   "outputs": [
    {
     "name": "stdout",
     "output_type": "stream",
     "text": [
      "Theta for 5 iterations is: [-2.08359142 -9.02762737]\n",
      "Offset for 5 iterations is: 1.0\n",
      "The accuracy for 5 iterations is: 96.8063872255489\n"
     ]
    }
   ],
   "source": [
    "theta, offset = perceptron_algorithm(10,y1,x)\n",
    "print(\"Theta for 5 iterations is: \" + str(theta[0]))\n",
    "print(\"Offset for 5 iterations is: \" + str(offset))\n",
    "print(\"The accuracy for 5 iterations is: \" + str(predict(y1_test,x_test,theta[0],offset)))"
   ]
  },
  {
   "cell_type": "code",
   "execution_count": null,
   "metadata": {},
   "outputs": [],
   "source": []
  }
 ],
 "metadata": {
  "kernelspec": {
   "display_name": "Python 3",
   "language": "python",
   "name": "python3"
  },
  "language_info": {
   "codemirror_mode": {
    "name": "ipython",
    "version": 3
   },
   "file_extension": ".py",
   "mimetype": "text/x-python",
   "name": "python",
   "nbconvert_exporter": "python",
   "pygments_lexer": "ipython3",
   "version": "3.6.4"
  }
 },
 "nbformat": 4,
 "nbformat_minor": 2
}
