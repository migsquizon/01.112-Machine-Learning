{
 "cells": [
  {
   "cell_type": "code",
   "execution_count": 1,
   "metadata": {},
   "outputs": [],
   "source": [
    "from csv import reader\n",
    "import numpy as np\n",
    "\n",
    "# Load a CSV file\n",
    "def load_csv(filename):\n",
    "    dataset = []\n",
    "    with open(filename, 'r') as file:\n",
    "        csv_reader = reader(file)\n",
    "        for row in csv_reader:\n",
    "            if not row:\n",
    "                continue  \n",
    "            dataset.append(row)\n",
    "    return dataset"
   ]
  },
  {
   "cell_type": "code",
   "execution_count": 2,
   "metadata": {},
   "outputs": [],
   "source": [
    "# Convert string column to float\n",
    "def str_column_to_float(dataset, column):\n",
    "    for row in dataset:\n",
    "        row[column] = float(row[column].strip())"
   ]
  },
  {
   "cell_type": "code",
   "execution_count": 3,
   "metadata": {},
   "outputs": [],
   "source": [
    "def predict(samples,weights,offset):\n",
    "    activation = 0\n",
    "    for row in samples:\n",
    "        activation += np.dot(row,weights)\n",
    "    activation += offset\n",
    "    return 1.0 if activation >= 0.0 else -1.0"
   ]
  },
  {
   "cell_type": "code",
   "execution_count": 4,
   "metadata": {},
   "outputs": [],
   "source": [
    "filename = '/Users/anthonymunoz/ISTDTerm6/MachineLearning/data/1/train_1_5.csv'\n",
    "dataset = load_csv(filename)\n",
    "for i in range(len(dataset[0])):\n",
    "    str_column_to_float(dataset, i)\n",
    "x1 = []\n",
    "x2 = []\n",
    "samples = []\n",
    "y1 = []\n",
    "\n",
    "for row in range(len(dataset)):\n",
    "    x1.append(dataset[row][0])\n",
    "    x2.append(dataset[row][1])\n",
    "    y1.append(dataset[row][2])\n",
    "    samples.append([dataset[row][0],dataset[row][1]])\n",
    "    \n",
    "      \n",
    "num_epoch = 5"
   ]
  },
  {
   "cell_type": "code",
   "execution_count": 5,
   "metadata": {},
   "outputs": [],
   "source": [
    "def train_weights(samples,num_epoch,labels):\n",
    "    row = len(samples)\n",
    "    weights = [0,0]\n",
    "    offset = 0\n",
    "    for t in range(num_epoch):\n",
    "        errors = 0\n",
    "        for sample, label in zip(samples,labels):\n",
    "            if predict(samples, weights, offset) != label:\n",
    "                \n",
    "                weights = np.add(weights, np.dot(label,sample))\n",
    "                \n",
    "                offset +=  label\n",
    "\n",
    "                errors += 1\n",
    "\n",
    "        if errors == 0:\n",
    "            break\n",
    "            \n",
    "    return lambda x: predict(x, weights, offset)\n",
    "    "
   ]
  },
  {
   "cell_type": "code",
   "execution_count": 6,
   "metadata": {},
   "outputs": [],
   "source": [
    "def test(samples, labels, classifier):\n",
    "    \"\"\"Test classifier on samples, and returns error/total percentage.\"\"\"\n",
    "    errors = 0\n",
    "    for sample, label in zip(samples, labels):\n",
    "        if classifier(samples) != label:\n",
    "            errors+=1\n",
    "    return 100 - (100.0 * errors / len(samples))"
   ]
  },
  {
   "cell_type": "code",
   "execution_count": 7,
   "metadata": {},
   "outputs": [],
   "source": [
    "filename2 = '/Users/anthonymunoz/ISTDTerm6/MachineLearning/data/1/test_1_5.csv'\n",
    "dataset2 = load_csv(filename2)\n",
    "for i in range(len(dataset2[0])):\n",
    "    str_column_to_float(dataset2, i)\n",
    "x1_test = []\n",
    "x2_test = []\n",
    "samples_test = []\n",
    "y1_test = []\n",
    "\n",
    "for row in range(len(dataset2)):\n",
    "    x1_test.append(dataset2[row][0])\n",
    "    x2_test.append(dataset2[row][1])\n",
    "    y1_test.append(dataset2[row][2])\n",
    "    samples_test.append([dataset2[row][0],dataset2[row][1]]) \n",
    "    \n",
    "num_epoch = 5"
   ]
  },
  {
   "cell_type": "code",
   "execution_count": 8,
   "metadata": {},
   "outputs": [
    {
     "name": "stdout",
     "output_type": "stream",
     "text": [
      "64.57085828343313\n"
     ]
    }
   ],
   "source": [
    "classifier = train_weights(samples,num_epoch,y1)\n",
    "print(test(samples_test,y1_test,classifier))"
   ]
  },
  {
   "cell_type": "code",
   "execution_count": null,
   "metadata": {},
   "outputs": [],
   "source": []
  },
  {
   "cell_type": "code",
   "execution_count": null,
   "metadata": {},
   "outputs": [],
   "source": []
  }
 ],
 "metadata": {
  "kernelspec": {
   "display_name": "Python 3",
   "language": "python",
   "name": "python3"
  },
  "language_info": {
   "codemirror_mode": {
    "name": "ipython",
    "version": 3
   },
   "file_extension": ".py",
   "mimetype": "text/x-python",
   "name": "python",
   "nbconvert_exporter": "python",
   "pygments_lexer": "ipython3",
   "version": "3.6.4"
  }
 },
 "nbformat": 4,
 "nbformat_minor": 2
}
