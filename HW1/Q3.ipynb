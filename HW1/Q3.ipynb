{
 "cells": [
  {
   "cell_type": "markdown",
   "metadata": {},
   "source": [
    "# Q3 Ridge Regression\n",
    "\n",
    "how to run:\n",
    "\n",
    "1. change directories of x_data and y_data respectively\n",
    "2. run all cells below until end"
   ]
  },
  {
   "cell_type": "markdown",
   "metadata": {},
   "source": [
    "## 3A"
   ]
  },
  {
   "cell_type": "code",
   "execution_count": 1,
   "metadata": {},
   "outputs": [],
   "source": [
    "import matplotlib.pyplot as plt\n",
    "import numpy as np\n",
    "import pandas as pd\n",
    "import random\n",
    "import sys\n",
    "\n",
    "x = np.loadtxt(\"/Users/anthonymunoz/ISTDTerm6/MachineLearning/data/3/hw1_ridge_x.dat\", delimiter=\",\")\n",
    "y = np.loadtxt(\"/Users/anthonymunoz/ISTDTerm6/MachineLearning/data/3/hw1_ridge_y.dat\", delimiter=\",\")\n",
    "validation_x = x[:10]\n",
    "validation_y = y[:10]\n",
    "training_x = x[10:]\n",
    "training_y = y[10:]"
   ]
  },
  {
   "cell_type": "code",
   "execution_count": 2,
   "metadata": {},
   "outputs": [],
   "source": [
    "def ridge_regression(x, y, lambd):\n",
    "    xtx = np.dot(np.transpose(x), x)\n",
    "    xty = np.dot(np.transpose(x), y)\n",
    "    n = x.shape[0]\n",
    "    identity = np.identity(len(xtx))\n",
    "    expression = n * lambd* identity + xtx\n",
    "    weight = np.dot(np.linalg.inv(expression), xty)\n",
    "    return weight"
   ]
  },
  {
   "cell_type": "code",
   "execution_count": 3,
   "metadata": {},
   "outputs": [
    {
     "name": "stdout",
     "output_type": "stream",
     "text": [
      "The weight obtained from ridge regression is: [-0.57939825  1.15033028  0.04934122 -1.59867896]\n"
     ]
    }
   ],
   "source": [
    "print(\"The weight obtained from ridge regression is: {}\".format(ridge_regression(training_x, training_y, 0.15)))"
   ]
  },
  {
   "cell_type": "markdown",
   "metadata": {},
   "source": [
    "## 3B"
   ]
  },
  {
   "cell_type": "code",
   "execution_count": 4,
   "metadata": {},
   "outputs": [
    {
     "data": {
      "image/png": "[encoded data removed]",
      "text/plain": [
       "<matplotlib.figure.Figure at 0x116d29160>"
      ]
     },
     "metadata": {},
     "output_type": "display_data"
    }
   ],
   "source": [
    "tn = training_x.shape[0]\n",
    "vn = validation_x.shape[0]\n",
    "\n",
    "training_loss = []\n",
    "validation_loss = []\n",
    "\n",
    "index = -np.arange(0, 5, 0.1)\n",
    "for i in index:\n",
    "    w = ridge_regression(training_x, training_y, 10**i)\n",
    "    training_loss += [np.sum((np.dot(training_x , w) - training_y)**2) / tn / 2 ]\n",
    "    validation_loss += [np.sum((np.dot(validation_x , w) - validation_y)**2 ) / vn / 2 ]\n",
    "    \n",
    "\n",
    "plt.plot(index, np.log(training_loss), 'r', label='Training loss')\n",
    "plt.plot(index, np.log(validation_loss), 'b', label='Validation loss')\n",
    "plt.legend()\n",
    "plt.title(\"Loss vs Lambda Value\", fontsize=14)\n",
    "plt.xlabel('lambda')\n",
    "plt.ylabel('loss')\n",
    "plt.show()"
   ]
  },
  {
   "cell_type": "code",
   "execution_count": null,
   "metadata": {},
   "outputs": [],
   "source": []
  }
 ],
 "metadata": {
  "kernelspec": {
   "display_name": "Python 3",
   "language": "python",
   "name": "python3"
  },
  "language_info": {
   "codemirror_mode": {
    "name": "ipython",
    "version": 3
   },
   "file_extension": ".py",
   "mimetype": "text/x-python",
   "name": "python",
   "nbconvert_exporter": "python",
   "pygments_lexer": "ipython3",
   "version": "3.6.4"
  }
 },
 "nbformat": 4,
 "nbformat_minor": 2
}
