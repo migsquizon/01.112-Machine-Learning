{
 "cells": [
  {
   "cell_type": "markdown",
   "metadata": {},
   "source": [
    "#### Q1. K-means"
   ]
  },
  {
   "cell_type": "code",
   "execution_count": 1,
   "metadata": {},
   "outputs": [],
   "source": [
    "import numpy as np\n",
    "import pandas as pd\n",
    "import os\n",
    "\n",
    "path = \"C:/Users/andre/Documents/Tasks/Singapore/SUTD/Term 6/01.112 Machine Learning/HW2/data/1\"\n",
    "file_name = \"hw2-image.txt\"\n",
    "\n",
    "data = np.loadtxt(os.path.join(path, file_name))\n",
    "centroids_init = np.array(np.mat('255 255 255; 255 0 0; 128 0 0; 0 255 0; 0 128 0; 0 0 255; 0 0 128; 0 0 0'))"
   ]
  },
  {
   "cell_type": "code",
   "execution_count": 2,
   "metadata": {},
   "outputs": [
    {
     "name": "stdout",
     "output_type": "stream",
     "text": [
      "Iteration: 1\n",
      "Iteration: 2\n",
      "Iteration: 3\n",
      "Iteration: 4\n",
      "Iteration: 5\n",
      "Iteration: 6\n",
      "Iteration: 7\n",
      "Iteration: 8\n",
      "Iteration: 9\n",
      "Iteration: 10\n",
      "Iteration: 11\n",
      "Iteration: 12\n",
      "Iteration: 13\n",
      "Iteration: 14\n",
      "Iteration: 15\n",
      "Iteration: 16\n",
      "Iteration: 17\n",
      "Iteration: 18\n",
      "Iteration: 19\n",
      "Iteration: 20\n",
      "Iteration: 21\n",
      "Iteration: 22\n",
      "Iteration: 23\n",
      "Iteration: 24\n",
      "Iteration: 25\n",
      "Iteration: 26\n",
      "Iteration: 27\n",
      "Iteration: 28\n",
      "Iteration: 29\n",
      "Iteration: 30\n",
      "Iteration: 31\n",
      "Iteration: 32\n",
      "Iteration: 33\n",
      "Iteration: 34\n",
      "Iteration: 35\n",
      "Iteration: 36\n",
      "Iteration: 37\n",
      "Iteration: 38\n",
      "Iteration: 39\n",
      "Iteration: 40\n",
      "Iteration: 41\n",
      "Iteration: 42\n",
      "Iteration: 43\n",
      "Iteration: 44\n",
      "Iteration: 45\n",
      "Iteration: 46\n",
      "Iteration: 47\n",
      "Iteration: 48\n",
      "Finish at iteration number 48\n",
      "Cluster 0 has 245021 associated pixels\n",
      "Cluster 1 has 950683 associated pixels\n",
      "Cluster 2 has 2749036 associated pixels\n",
      "Cluster 3 has 0 associated pixels\n",
      "Cluster 4 has 642969 associated pixels\n",
      "Cluster 5 has 0 associated pixels\n",
      "Cluster 6 has 1795488 associated pixels\n",
      "Cluster 7 has 3697379 associated pixels\n"
     ]
    }
   ],
   "source": [
    "def sq_euclidian_dist(x, y):\n",
    "    n = len(x)\n",
    "    sum = 0\n",
    "    for index in range(n):\n",
    "        sum += np.square(x[index] - y[index])\n",
    "    return sum\n",
    "\n",
    "def closest_index(data, centroids):\n",
    "    n = len(centroids)\n",
    "    d = len(data)\n",
    "\n",
    "    dist_by_centroid = []\n",
    "    for index_c in range(n):\n",
    "        init_cluster = []\n",
    "        for index_d in range(d):\n",
    "            dist = sq_euclidian_dist(data[index_d], centroids[index_c])\n",
    "            init_cluster.append(dist)\n",
    "            \n",
    "        dist_by_centroid.append(init_cluster)\n",
    "        \n",
    "    dists = np.amin(dist_by_centroid, axis=0)\n",
    "    closest_point_index = np.argmin(dist_by_centroid, axis=0)\n",
    "    return np.array(closest_point_index), sum(dists)\n",
    "\n",
    "def compute_new_cluster(data, new_index, centroid_current):\n",
    "    cluster_len = len(centroid_current)\n",
    "    # [ R,G,B, number_of_cluster ]\n",
    "    cluster = {}\n",
    "    for index in range(cluster_len):\n",
    "        cluster[index] = [0,0,0,0]\n",
    "\n",
    "    for index, cluster_num in enumerate(new_index):\n",
    "        cluster[cluster_num][0] = cluster[cluster_num][0] + data[index][0]\n",
    "        cluster[cluster_num][1] = cluster[cluster_num][1] + data[index][1]\n",
    "        cluster[cluster_num][2] = cluster[cluster_num][2] + data[index][2]\n",
    "        cluster[cluster_num][3] = cluster[cluster_num][3] + 1\n",
    "\n",
    "    # computing new centroid\n",
    "    new_centroid = []\n",
    "    for index in range(cluster_len):\n",
    "        cluster_coor = []\n",
    "        if cluster[index][3] == 0:\n",
    "            continue\n",
    "        cluster_coor_r = cluster[index][0] / cluster[index][3]\n",
    "        cluster_coor_g = cluster[index][1] / cluster[index][3]\n",
    "        cluster_coor_b = cluster[index][2] / cluster[index][3]\n",
    "        cluster_coor.append(cluster_coor_r)\n",
    "        cluster_coor.append(cluster_coor_g)\n",
    "        cluster_coor.append(cluster_coor_b)\n",
    "        new_centroid.append(cluster_coor)\n",
    "    return np.array(new_centroid), cluster\n",
    "\n",
    "def k_means(data, centroids):\n",
    "    count = 1\n",
    "    cluster = {\n",
    "        0: 0,\n",
    "        1: 0,\n",
    "        2: 0,\n",
    "        3: 0,\n",
    "        4: 0,\n",
    "        5: 0,\n",
    "        6: 0,\n",
    "        7: 0\n",
    "    }\n",
    "    init_point_index, dists = closest_index(data, centroids)\n",
    "    init_centroid, cluster_pixel = compute_new_cluster(data, init_point_index, centroids)\n",
    "    distance = [dists]\n",
    "    for key, val in cluster.items():\n",
    "        cluster[key] = cluster_pixel[key][3]\n",
    "        \n",
    "    updated_centroid = init_centroid\n",
    "    print(\"Iteration: {}\".format(count))\n",
    "    while True:\n",
    "        new_point_index, dists = closest_index(data, updated_centroid)\n",
    "        new_centroid, cluster_pixel = compute_new_cluster(data, new_point_index, updated_centroid)\n",
    "        distance.append(dists)\n",
    "\n",
    "        cluster[0] = cluster[0] + cluster_pixel[0][3]\n",
    "        cluster[1] = cluster[1] + cluster_pixel[1][3]\n",
    "        cluster[2] = cluster[2] + cluster_pixel[2][3]\n",
    "        cluster[4] = cluster[4] + cluster_pixel[3][3]\n",
    "        cluster[6] = cluster[6] + cluster_pixel[4][3]\n",
    "        cluster[7] = cluster[7] + cluster_pixel[5][3]\n",
    "        count += 1\n",
    "        print(\"Iteration: {}\".format(count))\n",
    "        \n",
    "        if np.array_equal(new_centroid, updated_centroid):\n",
    "            print(\"Finish at iteration number {}\".format(count))\n",
    "            for key, val in cluster.items():\n",
    "                print(\"Cluster {} has {} associated pixels\".format(key, val))\n",
    "            return np.array(new_centroid), distance, cluster, new_point_index\n",
    "        updated_centroid = new_centroid\n",
    "\n",
    "            \n",
    "# a = closest_index(data, centroids_init)\n",
    "# print(len(a))\n",
    "# print(np.array(compute_new_cluster(data, a, centroids_init)))\n",
    "centroid, distance, cluster, new_point_index = k_means(data, centroids_init)"
   ]
  },
  {
   "cell_type": "markdown",
   "metadata": {},
   "source": [
    "##### (a) How many clusters there are in the end. (A cluster can “disappear” in one iteration of the algorithm if no vectors are closest to its centroid.)\n",
    "6 clusters\n",
    "\n",
    "##### (b) The final centroids of each cluster.\n",
    "[[241.2296146 , 238.62515213, 233.86288032],  \n",
    "       [194.41158657, 136.33311389,  90.94364714],  \n",
    "       [136.2655563 ,  61.08973066,  10.10385457],  \n",
    "       [157.29173273,  97.59397508,  51.43329558],  \n",
    "       [ 78.92743714,  37.10828688,  13.07070482],  \n",
    "       [ 25.97800232,  23.23575423,  23.60599063]]  \n",
    "\n",
    "##### (c) The number of pixels associated to each cluster.\n",
    "Cluster 0 has 240091 associated pixels  \n",
    "Cluster 1 has 935493 associated pixels  \n",
    "Cluster 2 has 2696501 associated pixels  \n",
    "Cluster 3 has 0 associated pixels  \n",
    "Cluster 4 has 620894 associated pixels  \n",
    "Cluster 5 has 0 associated pixels  \n",
    "Cluster 6 has 1755123 associated pixels  \n",
    "Cluster 7 has 3622462 associated pixels  "
   ]
  },
  {
   "cell_type": "code",
   "execution_count": 6,
   "metadata": {},
   "outputs": [
    {
     "data": {
      "image/png": "[encoded data removed]",
      "text/plain": [
       "<Figure size 432x288 with 1 Axes>"
      ]
     },
     "metadata": {
      "needs_background": "light"
     },
     "output_type": "display_data"
    }
   ],
   "source": [
    "import matplotlib.pyplot as plt\n",
    "\n",
    "plt.plot([i for i in range(1, 49)], distance)\n",
    "plt.xlabel(\"Iterations\")\n",
    "plt.ylabel(\"Sum of squared Euclidean distance\")\n",
    "plt.show()"
   ]
  },
  {
   "cell_type": "code",
   "execution_count": 7,
   "metadata": {
    "collapsed": true
   },
   "outputs": [
    {
     "data": {
      "image/png": "[encoded data removed]",
      "text/plain": [
       "<Figure size 432x288 with 1 Axes>"
      ]
     },
     "metadata": {
      "needs_background": "light"
     },
     "output_type": "display_data"
    }
   ],
   "source": [
    "new_image = [[] for i in range(516 * 407)]\n",
    "for index, value in enumerate(new_point_index):\n",
    "    new_image[index] = centroid[value]\n",
    "    \n",
    "image = np.array(new_image).reshape(516, 407, 3)\n",
    "image = image.astype(np.uint8)\n",
    "\n",
    "plt.imshow(image)\n",
    "plt.show()"
   ]
  },
  {
   "cell_type": "markdown",
   "metadata": {},
   "source": [
    "#### Q2. K-medoids\n",
    "A. l∞. x0 and x1 is in the same cluster and l∞ between x0 and x1 is the smallest.\n",
    "\n",
    "B. l2. x0 and x3 is in the same cluster and l2 between x0 and x3 is the smallest.\n",
    "\n",
    "C. l1. x0 and x2 is in the same cluster and l1 between x0 and x2 is the smallest."
   ]
  },
  {
   "cell_type": "markdown",
   "metadata": {},
   "source": [
    "#### Q3. K-means vs K-medoids\n",
    "\n",
    "##### Advantages\n",
    "- K-medoids is more flexible. It is applicable with other methods to measure distance other than the squared euclidian distance while K-means may fail if other methods is used to measure distance.\n",
    "- K-medoids is more sensitive to outliers since K-means minimizes the sum of pairwise dissimilarities rather than the sum of squared euclidian distances.\n",
    "\n",
    "##### Disadvantages\n",
    "- K-medoids is much more expensive than K-means. K-medoids invloves computing all pairwise distance while K-means involves only the iteration of the number of nodes "
   ]
  },
  {
   "cell_type": "code",
   "execution_count": null,
   "metadata": {},
   "outputs": [],
   "source": []
  }
 ],
 "metadata": {
  "kernelspec": {
   "display_name": "Python 3",
   "language": "python",
   "name": "python3"
  },
  "language_info": {
   "codemirror_mode": {
    "name": "ipython",
    "version": 3
   },
   "file_extension": ".py",
   "mimetype": "text/x-python",
   "name": "python",
   "nbconvert_exporter": "python",
   "pygments_lexer": "ipython3",
   "version": "3.6.4"
  }
 },
 "nbformat": 4,
 "nbformat_minor": 2
}
